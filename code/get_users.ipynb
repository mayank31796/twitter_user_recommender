{
 "cells": [
  {
   "cell_type": "code",
   "execution_count": null,
   "metadata": {},
   "outputs": [],
   "source": [
    "import tweepy\n",
    "#from helper_functions import *\n",
    "import os\n",
    "import time\n",
    "from tweepy.models import Status, ResultSet\n",
    "import re\n",
    "from datetime import datetime\n",
    "import random"
   ]
  },
  {
   "cell_type": "code",
   "execution_count": null,
   "metadata": {},
   "outputs": [],
   "source": [
    "consumer_key = 'JaxuEZ63V5VfvzraFmXCQI1CA'\n",
    "consumer_secret = 'mZ7CvXOPCmxX6ZWVTOL4wruG6wbcwYima17oIViODeCqblTKTc'\n",
    "auth = tweepy.AppAuthHandler(consumer_key,consumer_secret ) \n",
    "api = tweepy.API(auth, wait_on_rate_limit=True, wait_on_rate_limit_notify=True)\n"
   ]
  },
  {
   "cell_type": "code",
   "execution_count": null,
   "metadata": {},
   "outputs": [],
   "source": [
    "def get_user(tweet):\n",
    "\n",
    "    if type(tweet) == Status: \n",
    "        return tweet.__dict__['user'].screen_name\n",
    "    else:\n",
    "        print(\"Please enter in a tweet of type Status\")"
   ]
  },
  {
   "cell_type": "code",
   "execution_count": null,
   "metadata": {},
   "outputs": [],
   "source": [
    "def get_all_friends(user,count = None):\n",
    "    final = []\n",
    "    for friend in tweepy.Cursor(api.friends, screen_name=user,count = count).items():\n",
    "        final.append(friend.screen_name)\n",
    "    return final"
   ]
  },
  {
   "cell_type": "code",
   "execution_count": null,
   "metadata": {},
   "outputs": [],
   "source": [
    "friendsd1 = get_all_friends('MKBHD')\n",
    "\n",
    "\n",
    "    "
   ]
  },
  {
   "cell_type": "code",
   "execution_count": null,
   "metadata": {},
   "outputs": [],
   "source": [
    "d1 = set(friendsd1)\n",
    "d1 = list(d1)\n"
   ]
  },
  {
   "cell_type": "code",
   "execution_count": null,
   "metadata": {},
   "outputs": [],
   "source": [
    "friendsd2 = set()\n",
    "backoff_counter = 1\n",
    "\n",
    "while True: \n",
    "    try:\n",
    "        for f in d1:\n",
    "            print(\"Getting friends of : \",f)\n",
    "            for x in (get_all_friends(f,200)):\n",
    "                #print(\"Adding \",x)\n",
    "                friendsd2.add(x)\n",
    "            d1.pop(0)\n",
    "            print(\"%d of %d remaining.......\"%(len(d1),len(friendsd1)))\n",
    "        break\n",
    "    except tweepy.TweepError as e:\n",
    "        print(e.reason)\n",
    "        time.sleep(20)\n",
    "        backoff_counter += 1\n",
    "        continue"
   ]
  },
  {
   "cell_type": "code",
   "execution_count": null,
   "metadata": {},
   "outputs": [],
   "source": [
    "friendsd2 = (list((friendsd2)))"
   ]
  },
  {
   "cell_type": "code",
   "execution_count": null,
   "metadata": {},
   "outputs": [],
   "source": [
    "import pickle"
   ]
  },
  {
   "cell_type": "code",
   "execution_count": null,
   "metadata": {},
   "outputs": [],
   "source": [
    "\n",
    "with open(\"C:\\\\Users\\\\mayan\\\\Desktop\\\\2degree_friends.pkl\", 'wb') as f:\n",
    "    pickle.dump(not_following, f)"
   ]
  },
  {
   "cell_type": "code",
   "execution_count": null,
   "metadata": {},
   "outputs": [],
   "source": [
    "not_following = [x for x in friendsd2 if x not in friendsd1]"
   ]
  },
  {
   "cell_type": "code",
   "execution_count": null,
   "metadata": {},
   "outputs": [],
   "source": [
    "\n",
    "with open(\"C:\\\\Users\\\\mayan\\\\Desktop\\\\not_following.pkl\", 'wb') as f:\n",
    "    pickle.dump(not_following, f)"
   ]
  }
 ],
 "metadata": {
  "kernelspec": {
   "display_name": "project",
   "language": "python",
   "name": "project"
  },
  "language_info": {
   "codemirror_mode": {
    "name": "ipython",
    "version": 3
   },
   "file_extension": ".py",
   "mimetype": "text/x-python",
   "name": "python",
   "nbconvert_exporter": "python",
   "pygments_lexer": "ipython3",
   "version": "3.6.9"
  }
 },
 "nbformat": 4,
 "nbformat_minor": 2
}
